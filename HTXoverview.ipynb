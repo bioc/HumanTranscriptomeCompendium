{
 "cells": [
  {
   "cell_type": "markdown",
   "metadata": {},
   "source": [
    "# Using the HumanTranscriptomeCompendium with Bioconductor\n",
    "\n",
    "HumanTranscriptomeCompendium refers to a cloud-resident collection of uniformly produced quantifications for 181000 RNA-seq experiments derived from NCBI SRA in Summer 2017.  The quantifications were obtained by Dr. Sean Davis of NCI using [salmon](https://combine-lab.github.io/salmon/) and transformed to HDF5 by Dr. VJ Carey of Harvard Medical School.  The data are available in the HDF Scalable Data Service (HSDS) thanks to the support of John Readey of the HDF Group.  In this very brief introductory document we illustrate how to access the data and related annotations.\n",
    "\n",
    "1. [Setup](#setup)\n",
    "2. [Metadata management and interrogation](#metadata)\n",
    "   1. [DocSet: indexed metadata](#docset)\n",
    "   2. [Querying a DocSet](#querdoc)\n",
    "3. [Filtering the compendium](#filtering)\n",
    "   1. [Metadata overview](#overview)\n",
    "   2. [Drilling down to tabulate study design factors](#drill)\n",
    "4. [Statistical characteristics of the compendium](#stat)\n",
    "   1. [Distribution of study sizes](#sizes)\n",
    "   2. [Availability of gender or ethnicity information](#geneth)\n",
    "   3. [Single-gene surveys](#sing)\n",
    "5. [Summary](#summary)"
   ]
  },
  {
   "cell_type": "markdown",
   "metadata": {},
   "source": [
    "## Setup and initial acquaintance  <a id=\"setup\"></a>\n",
    "\n",
    "As of April 1 2019, we need to retrieve key packages from github."
   ]
  },
  {
   "cell_type": "code",
   "execution_count": 1,
   "metadata": {},
   "outputs": [],
   "source": [
    "library(BiocManager) # precede with its installation if this fails\n",
    "installOnNeed = function(pkg) {\n",
    "    if (!(basename(pkg) %in% rownames(installed.packages()))) suppressMessages(BiocManager::install(pkg))\n",
    "}\n",
    "installOnNeed(\"vjcitn/HumanTranscriptomeCompendium\") # pending in Bioconductor\n",
    "library(HumanTranscriptomeCompendium)"
   ]
  },
  {
   "cell_type": "code",
   "execution_count": 2,
   "metadata": {},
   "outputs": [
    {
     "name": "stderr",
     "output_type": "stream",
     "text": [
      "Loading required namespace: BiocFileCache\n"
     ]
    },
    {
     "data": {
      "text/plain": [
       "class: RangedSummarizedExperiment \n",
       "dim: 58288 181134 \n",
       "metadata(1): rangeSource\n",
       "assays(1): counts\n",
       "rownames(58288): ENSG00000000003.14 ENSG00000000005.5 ...\n",
       "  ENSG00000284747.1 ENSG00000284748.1\n",
       "rowData names(4): gene_type gene_id gene_name havana_gene\n",
       "colnames(181134): DRX001125 DRX001126 ... SRX999990 SRX999991\n",
       "colData names(4): experiment_accession experiment_platform\n",
       "  study_accession study_title"
      ]
     },
     "metadata": {},
     "output_type": "display_data"
    }
   ],
   "source": [
    "se1 = addRD(htx_load())\n",
    "se1"
   ]
  },
  {
   "cell_type": "markdown",
   "metadata": {},
   "source": [
    "This SummarizedExperiment instance is developed according to methods defined in the [restfulSE package](https://bioconductor.org/packages/restfulSE/).  See the related [f1000research report](https://f1000research.com/articles/8-21/v1).\n",
    "\n",
    "The `assay` method involves the [DelayedArray](https://bioconductor.org/packages/DelayedArray/) protocol.  A preview of remote numerical data is provided when `assay` is invoked.  Note that very large requests of data through the `as.matrix` method on a DelayedArray in HSDS will likely engender errors."
   ]
  },
  {
   "cell_type": "code",
   "execution_count": 3,
   "metadata": {},
   "outputs": [
    {
     "name": "stderr",
     "output_type": "stream",
     "text": [
      "Loading required package: rhdf5client\n"
     ]
    },
    {
     "data": {
      "text/plain": [
       "<58288 x 181134> DelayedMatrix object of type \"double\":\n",
       "                      DRX001125    DRX001126    DRX001127 ...  SRX999990\n",
       "ENSG00000000003.14    40.001250  1322.844547  1528.257578   .  1149.0341\n",
       " ENSG00000000005.5     0.000000     9.999964     6.000006   .     0.0000\n",
       "ENSG00000000419.12    64.000031  1456.004418  2038.996875   .  1485.0003\n",
       "ENSG00000000457.13    31.814591  1583.504257  1715.041308   .   631.7751\n",
       "ENSG00000000460.16    12.430602   439.321234   529.280324   .   945.6903\n",
       "               ...            .            .            .   .          .\n",
       " ENSG00000284744.1   1.05614505  24.81388079  32.29261298   .   7.316061\n",
       " ENSG00000284745.1   0.99999879  15.99996994  16.99999743   .   0.000000\n",
       " ENSG00000284746.1   0.00000000   0.00379458   0.00000000   .   0.000000\n",
       " ENSG00000284747.1   7.77564984 270.83296409 239.88056843   . 108.011633\n",
       " ENSG00000284748.1   1.00000768  22.23010514  37.73881938   .  11.278980\n",
       "                    SRX999991\n",
       "ENSG00000000003.14  1430.3955\n",
       " ENSG00000000005.5     0.0000\n",
       "ENSG00000000419.12  1970.0004\n",
       "ENSG00000000457.13   802.0563\n",
       "ENSG00000000460.16  1259.7648\n",
       "               ...          .\n",
       " ENSG00000284744.1   3.268453\n",
       " ENSG00000284745.1   0.000000\n",
       " ENSG00000284746.1   0.000000\n",
       " ENSG00000284747.1  94.606851\n",
       " ENSG00000284748.1   5.240970"
      ]
     },
     "metadata": {},
     "output_type": "display_data"
    }
   ],
   "source": [
    "suppressPackageStartupMessages(library(SummarizedExperiment))\n",
    "assay(se1)"
   ]
  },
  {
   "cell_type": "markdown",
   "metadata": {},
   "source": [
    "## Metadata management and interrogation <a id=\"metadata\"></a>\n",
    "\n",
    "The [ssrch](https://github.com/vjcitn/ssrch) package (pending at Bioconductor) defines utilities for managing heterogeneous metadata.  A snapshot of metadata available in March 2019 was obtained using the [SRAdbV2](https://github.com/seandavi/SRAdbV2) package of Sean Davis of NCI.  The `sample.attribute` information was indexed and organized into a `DocSet` instance as defined in `ssrch`.\n",
    "\n",
    "### DocSet: indexed metadata <a id=\"docset\"/>\n",
    "\n",
    "The HumanTranscriptomeCompendium package has sample attribute data.frame instances for 4841 studies available in NCBI SRA."
   ]
  },
  {
   "cell_type": "code",
   "execution_count": 4,
   "metadata": {},
   "outputs": [
    {
     "data": {
      "text/plain": [
       "ssrch DocSet resource:\n",
       " 4841 documents, 240753 records\n",
       "some titles:\n",
       "  Homo sapiens strain:Human ICESeq Genome sequencing... (DRP000499)\n",
       "  RNA sequencing of wild-type or mutant U2AF35 transduced... (DRP000527)\n",
       "  Identification of hundreds of novel UPF1 target transcr... (DRP000622)\n",
       "  Global transcriptional response against glucose depriva... (DRP000665)\n",
       "  Human inactive X chromosome is compacted through a poly... (DRP000929)\n",
       "  Interactive Transcriptome Analysis of Malaria Patients ... (DRP000987)"
      ]
     },
     "metadata": {},
     "output_type": "display_data"
    }
   ],
   "source": [
    "library(ssrch)\n",
    "HumanTranscriptomeCompendium::ds4842"
   ]
  },
  {
   "cell_type": "markdown",
   "metadata": {},
   "source": [
    "### Querying a DocSet <a id=\"querdoc\"/>\n",
    "\n",
    "The `searchDocs` function can obtain study accession numbers for studies that employ terms of interest.  In the following we check for studies using the regexp `BRAF[- ]mut`."
   ]
  },
  {
   "cell_type": "code",
   "execution_count": 5,
   "metadata": {},
   "outputs": [
    {
     "data": {
      "text/html": [
       "<table>\n",
       "<thead><tr><th scope=col>hits</th><th scope=col>docs</th></tr></thead>\n",
       "<tbody>\n",
       "\t<tr><td>BRAF mutation</td><td>SRP080797    </td></tr>\n",
       "\t<tr><td>BRAF-mut     </td><td>SRP027530    </td></tr>\n",
       "\t<tr><td>BRAF-mutant  </td><td>SRP065849    </td></tr>\n",
       "</tbody>\n",
       "</table>\n"
      ],
      "text/latex": [
       "\\begin{tabular}{r|ll}\n",
       " hits & docs\\\\\n",
       "\\hline\n",
       "\t BRAF mutation & SRP080797    \\\\\n",
       "\t BRAF-mut      & SRP027530    \\\\\n",
       "\t BRAF-mutant   & SRP065849    \\\\\n",
       "\\end{tabular}\n"
      ],
      "text/markdown": [
       "\n",
       "| hits | docs |\n",
       "|---|---|\n",
       "| BRAF mutation | SRP080797     |\n",
       "| BRAF-mut      | SRP027530     |\n",
       "| BRAF-mutant   | SRP065849     |\n",
       "\n"
      ],
      "text/plain": [
       "  hits          docs     \n",
       "1 BRAF mutation SRP080797\n",
       "2 BRAF-mut      SRP027530\n",
       "3 BRAF-mutant   SRP065849"
      ]
     },
     "metadata": {},
     "output_type": "display_data"
    }
   ],
   "source": [
    "brm = searchDocs(\"BRAF[- ]mut\", ds4842)\n",
    "brm"
   ]
  },
  {
   "cell_type": "markdown",
   "metadata": {},
   "source": [
    "## Filtering the compendium <a id=\"filtering\"/>\n",
    "\n",
    "Given a vector of study accession numbers, we filter the compendium (in a delayed manner):"
   ]
  },
  {
   "cell_type": "code",
   "execution_count": 6,
   "metadata": {},
   "outputs": [
    {
     "data": {
      "text/plain": [
       "class: RangedSummarizedExperiment \n",
       "dim: 58288 72 \n",
       "metadata(4): rangeSource SRP080797 SRP027530 SRP065849\n",
       "assays(1): counts\n",
       "rownames(58288): ENSG00000000003.14 ENSG00000000005.5 ...\n",
       "  ENSG00000284747.1 ENSG00000284748.1\n",
       "rowData names(4): gene_type gene_id gene_name havana_gene\n",
       "colnames(72): SRX1420823 SRX1420824 ... SRX3241750 SRX3241751\n",
       "colData names(4): experiment_accession experiment_platform\n",
       "  study_accession study_title"
      ]
     },
     "metadata": {},
     "output_type": "display_data"
    }
   ],
   "source": [
    "se_brafmut = htx_query_by_study_accession(brm$docs, se1)\n",
    "se_brafmut"
   ]
  },
  {
   "cell_type": "markdown",
   "metadata": {},
   "source": [
    "### Metadata overview <a id=\"overview\"></a>\n",
    "    \n",
    "We obtained a collection of 72 samples.  The sample-level metadata are heterogeneous, possessing unique field sets and informal field annotations."
   ]
  },
  {
   "cell_type": "code",
   "execution_count": 7,
   "metadata": {},
   "outputs": [
    {
     "data": {
      "text/html": [
       "<dl>\n",
       "\t<dt>$SRP080797</dt>\n",
       "\t\t<dd><table>\n",
       "<thead><tr><th></th><th scope=col>X</th><th scope=col>study.accession</th><th scope=col>experiment.accession</th><th scope=col>source_name</th><th scope=col>cell.line</th><th scope=col>genetic.background</th><th scope=col>culture.medium</th><th scope=col>agent</th><th scope=col>egf.stimulation</th></tr></thead>\n",
       "<tbody>\n",
       "\t<tr><th scope=row>SRX1994764</th><td>2                                                </td><td>SRP080797                                        </td><td>SRX1994764                                       </td><td>Skin                                             </td><td>A375                                             </td><td>BRAF mutation                                    </td><td>Starvation: Culture in 0.5% FBS medium for 2 days</td><td>DMSO treatment for 3 hours                       </td><td>NA                                               </td></tr>\n",
       "\t<tr><th scope=row>SRX1994763</th><td>3                                                </td><td>SRP080797                                        </td><td>SRX1994763                                       </td><td>Lung                                             </td><td>A549                                             </td><td>KRAS mutation                                    </td><td>Starvation: Culture in 0.5% FBS medium for 2 days</td><td>MEK inhibitor 3 hours at 0.2 uM                  </td><td>EGF stimulation: 20 min, 100ng/ml                </td></tr>\n",
       "\t<tr><th scope=row>SRX1994775</th><td>4                                                </td><td>SRP080797                                        </td><td>SRX1994775                                       </td><td>Skin                                             </td><td>A375                                             </td><td>BRAF mutation                                    </td><td>Starvation: Culture in 0.5% FBS medium for 2 days</td><td>INTS11 siRNA transfection, 3 days                </td><td>EGF stimulation: 20 min, 100ng/ml                </td></tr>\n",
       "</tbody>\n",
       "</table>\n",
       "</dd>\n",
       "\t<dt>$SRP027530</dt>\n",
       "\t\t<dd><table>\n",
       "<thead><tr><th></th><th scope=col>X</th><th scope=col>study.accession</th><th scope=col>experiment.accession</th><th scope=col>source_name</th><th scope=col>tissue</th><th scope=col>age</th><th scope=col>Sex</th><th scope=col>tumor.stage</th><th scope=col>genotype.variation</th></tr></thead>\n",
       "<tbody>\n",
       "\t<tr><th scope=row>SRX323589</th><td>1             </td><td>SRP027530     </td><td>SRX323589     </td><td>Thyroid tumor </td><td>Thyroid cancer</td><td>57            </td><td>female        </td><td>T1bN0M0       </td><td>BRAF-mut      </td></tr>\n",
       "\t<tr><th scope=row>SRX323603</th><td>2             </td><td>SRP027530     </td><td>SRX323603     </td><td>Thyroid tumor </td><td>Thyroid cancer</td><td>57            </td><td>female        </td><td>T1bN0M0       </td><td>BRAF-mut      </td></tr>\n",
       "\t<tr><th scope=row>SRX323599</th><td>3             </td><td>SRP027530     </td><td>SRX323599     </td><td>Thyroid tumor </td><td>Thyroid cancer</td><td>44            </td><td>female        </td><td>T1bN1aM0      </td><td>BRAF-wt       </td></tr>\n",
       "</tbody>\n",
       "</table>\n",
       "</dd>\n",
       "\t<dt>$SRP065849</dt>\n",
       "\t\t<dd><table>\n",
       "<thead><tr><th></th><th scope=col>X</th><th scope=col>study.accession</th><th scope=col>experiment.accession</th><th scope=col>source_name</th><th scope=col>tissue</th><th scope=col>phenotype</th><th scope=col>host.mouse.treatment</th></tr></thead>\n",
       "<tbody>\n",
       "\t<tr><th scope=row>SRX1420824</th><td>1                          </td><td>SRP065849                  </td><td>SRX1420824                 </td><td>A375 melanoma bearing mouse</td><td>A375 tumor                 </td><td>vemurafenib-sensitive      </td><td>none                       </td></tr>\n",
       "\t<tr><th scope=row>SRX1420825</th><td>2                          </td><td>SRP065849                  </td><td>SRX1420825                 </td><td>A375 melanoma bearing mouse</td><td>A375 tumor                 </td><td>vemurafenib-sensitive      </td><td>none                       </td></tr>\n",
       "\t<tr><th scope=row>SRX1420826</th><td>3                          </td><td>SRP065849                  </td><td>SRX1420826                 </td><td>A375 melanoma bearing mouse</td><td>A375 tumor                 </td><td>vemurafenib-sensitive      </td><td>none                       </td></tr>\n",
       "</tbody>\n",
       "</table>\n",
       "</dd>\n",
       "</dl>\n"
      ],
      "text/latex": [
       "\\begin{description}\n",
       "\\item[\\$SRP080797] \\begin{tabular}{r|lllllllll}\n",
       "  & X & study.accession & experiment.accession & source\\_name & cell.line & genetic.background & culture.medium & agent & egf.stimulation\\\\\n",
       "\\hline\n",
       "\tSRX1994764 & 2                                                   & SRP080797                                           & SRX1994764                                          & Skin                                                & A375                                                & BRAF mutation                                       & Starvation: Culture in 0.5\\% FBS medium for 2 days & DMSO treatment for 3 hours                          & NA                                                 \\\\\n",
       "\tSRX1994763 & 3                                                   & SRP080797                                           & SRX1994763                                          & Lung                                                & A549                                                & KRAS mutation                                       & Starvation: Culture in 0.5\\% FBS medium for 2 days & MEK inhibitor 3 hours at 0.2 uM                     & EGF stimulation: 20 min, 100ng/ml                  \\\\\n",
       "\tSRX1994775 & 4                                                   & SRP080797                                           & SRX1994775                                          & Skin                                                & A375                                                & BRAF mutation                                       & Starvation: Culture in 0.5\\% FBS medium for 2 days & INTS11 siRNA transfection, 3 days                   & EGF stimulation: 20 min, 100ng/ml                  \\\\\n",
       "\\end{tabular}\n",
       "\n",
       "\\item[\\$SRP027530] \\begin{tabular}{r|lllllllll}\n",
       "  & X & study.accession & experiment.accession & source\\_name & tissue & age & Sex & tumor.stage & genotype.variation\\\\\n",
       "\\hline\n",
       "\tSRX323589 & 1              & SRP027530      & SRX323589      & Thyroid tumor  & Thyroid cancer & 57             & female         & T1bN0M0        & BRAF-mut      \\\\\n",
       "\tSRX323603 & 2              & SRP027530      & SRX323603      & Thyroid tumor  & Thyroid cancer & 57             & female         & T1bN0M0        & BRAF-mut      \\\\\n",
       "\tSRX323599 & 3              & SRP027530      & SRX323599      & Thyroid tumor  & Thyroid cancer & 44             & female         & T1bN1aM0       & BRAF-wt       \\\\\n",
       "\\end{tabular}\n",
       "\n",
       "\\item[\\$SRP065849] \\begin{tabular}{r|lllllll}\n",
       "  & X & study.accession & experiment.accession & source\\_name & tissue & phenotype & host.mouse.treatment\\\\\n",
       "\\hline\n",
       "\tSRX1420824 & 1                           & SRP065849                   & SRX1420824                  & A375 melanoma bearing mouse & A375 tumor                  & vemurafenib-sensitive       & none                       \\\\\n",
       "\tSRX1420825 & 2                           & SRP065849                   & SRX1420825                  & A375 melanoma bearing mouse & A375 tumor                  & vemurafenib-sensitive       & none                       \\\\\n",
       "\tSRX1420826 & 3                           & SRP065849                   & SRX1420826                  & A375 melanoma bearing mouse & A375 tumor                  & vemurafenib-sensitive       & none                       \\\\\n",
       "\\end{tabular}\n",
       "\n",
       "\\end{description}\n"
      ],
      "text/markdown": [
       "$SRP080797\n",
       ":   \n",
       "| <!--/--> | X | study.accession | experiment.accession | source_name | cell.line | genetic.background | culture.medium | agent | egf.stimulation |\n",
       "|---|---|---|---|---|---|---|---|---|---|\n",
       "| SRX1994764 | 2                                                 | SRP080797                                         | SRX1994764                                        | Skin                                              | A375                                              | BRAF mutation                                     | Starvation: Culture in 0.5% FBS medium for 2 days | DMSO treatment for 3 hours                        | NA                                                |\n",
       "| SRX1994763 | 3                                                 | SRP080797                                         | SRX1994763                                        | Lung                                              | A549                                              | KRAS mutation                                     | Starvation: Culture in 0.5% FBS medium for 2 days | MEK inhibitor 3 hours at 0.2 uM                   | EGF stimulation: 20 min, 100ng/ml                 |\n",
       "| SRX1994775 | 4                                                 | SRP080797                                         | SRX1994775                                        | Skin                                              | A375                                              | BRAF mutation                                     | Starvation: Culture in 0.5% FBS medium for 2 days | INTS11 siRNA transfection, 3 days                 | EGF stimulation: 20 min, 100ng/ml                 |\n",
       "\n",
       "\n",
       "$SRP027530\n",
       ":   \n",
       "| <!--/--> | X | study.accession | experiment.accession | source_name | tissue | age | Sex | tumor.stage | genotype.variation |\n",
       "|---|---|---|---|---|---|---|---|---|---|\n",
       "| SRX323589 | 1              | SRP027530      | SRX323589      | Thyroid tumor  | Thyroid cancer | 57             | female         | T1bN0M0        | BRAF-mut       |\n",
       "| SRX323603 | 2              | SRP027530      | SRX323603      | Thyroid tumor  | Thyroid cancer | 57             | female         | T1bN0M0        | BRAF-mut       |\n",
       "| SRX323599 | 3              | SRP027530      | SRX323599      | Thyroid tumor  | Thyroid cancer | 44             | female         | T1bN1aM0       | BRAF-wt        |\n",
       "\n",
       "\n",
       "$SRP065849\n",
       ":   \n",
       "| <!--/--> | X | study.accession | experiment.accession | source_name | tissue | phenotype | host.mouse.treatment |\n",
       "|---|---|---|---|---|---|---|---|\n",
       "| SRX1420824 | 1                           | SRP065849                   | SRX1420824                  | A375 melanoma bearing mouse | A375 tumor                  | vemurafenib-sensitive       | none                        |\n",
       "| SRX1420825 | 2                           | SRP065849                   | SRX1420825                  | A375 melanoma bearing mouse | A375 tumor                  | vemurafenib-sensitive       | none                        |\n",
       "| SRX1420826 | 3                           | SRP065849                   | SRX1420826                  | A375 melanoma bearing mouse | A375 tumor                  | vemurafenib-sensitive       | none                        |\n",
       "\n",
       "\n",
       "\n",
       "\n"
      ],
      "text/plain": [
       "$SRP080797\n",
       "           X study.accession experiment.accession source_name cell.line\n",
       "SRX1994764 2       SRP080797           SRX1994764        Skin      A375\n",
       "SRX1994763 3       SRP080797           SRX1994763        Lung      A549\n",
       "SRX1994775 4       SRP080797           SRX1994775        Skin      A375\n",
       "           genetic.background                                    culture.medium\n",
       "SRX1994764      BRAF mutation Starvation: Culture in 0.5% FBS medium for 2 days\n",
       "SRX1994763      KRAS mutation Starvation: Culture in 0.5% FBS medium for 2 days\n",
       "SRX1994775      BRAF mutation Starvation: Culture in 0.5% FBS medium for 2 days\n",
       "                                       agent                   egf.stimulation\n",
       "SRX1994764        DMSO treatment for 3 hours                              <NA>\n",
       "SRX1994763   MEK inhibitor 3 hours at 0.2 uM EGF stimulation: 20 min, 100ng/ml\n",
       "SRX1994775 INTS11 siRNA transfection, 3 days EGF stimulation: 20 min, 100ng/ml\n",
       "\n",
       "$SRP027530\n",
       "          X study.accession experiment.accession   source_name         tissue\n",
       "SRX323589 1       SRP027530            SRX323589 Thyroid tumor Thyroid cancer\n",
       "SRX323603 2       SRP027530            SRX323603 Thyroid tumor Thyroid cancer\n",
       "SRX323599 3       SRP027530            SRX323599 Thyroid tumor Thyroid cancer\n",
       "          age    Sex tumor.stage genotype.variation\n",
       "SRX323589  57 female     T1bN0M0           BRAF-mut\n",
       "SRX323603  57 female     T1bN0M0           BRAF-mut\n",
       "SRX323599  44 female    T1bN1aM0            BRAF-wt\n",
       "\n",
       "$SRP065849\n",
       "           X study.accession experiment.accession                 source_name\n",
       "SRX1420824 1       SRP065849           SRX1420824 A375 melanoma bearing mouse\n",
       "SRX1420825 2       SRP065849           SRX1420825 A375 melanoma bearing mouse\n",
       "SRX1420826 3       SRP065849           SRX1420826 A375 melanoma bearing mouse\n",
       "               tissue             phenotype host.mouse.treatment\n",
       "SRX1420824 A375 tumor vemurafenib-sensitive                 none\n",
       "SRX1420825 A375 tumor vemurafenib-sensitive                 none\n",
       "SRX1420826 A375 tumor vemurafenib-sensitive                 none\n"
      ]
     },
     "metadata": {},
     "output_type": "display_data"
    }
   ],
   "source": [
    "lapply(metadata(se_brafmut)[-1], head, 3)"
   ]
  },
  {
   "cell_type": "markdown",
   "metadata": {},
   "source": [
    "For the first two studies the role played by BRAF is clear.  However, the table for SRP065849 does not seem to use the token `BRAF` in any field.  It turns out that BRAF is used in the study title, and titles were harvested for the metadata index."
   ]
  },
  {
   "cell_type": "code",
   "execution_count": 8,
   "metadata": {},
   "outputs": [
    {
     "data": {
      "text/html": [
       "<strong>SRP065849:</strong> 'A novel RAF kinase inhibitor with DFG-out binding mode: high efficacy in BRAF-mutant tumor xenograft models in the absence of normal tissue hyperproliferation'"
      ],
      "text/latex": [
       "\\textbf{SRP065849:} 'A novel RAF kinase inhibitor with DFG-out binding mode: high efficacy in BRAF-mutant tumor xenograft models in the absence of normal tissue hyperproliferation'"
      ],
      "text/markdown": [
       "**SRP065849:** 'A novel RAF kinase inhibitor with DFG-out binding mode: high efficacy in BRAF-mutant tumor xenograft models in the absence of normal tissue hyperproliferation'"
      ],
      "text/plain": [
       "                                                                                                                                                       SRP065849 \n",
       "\"A novel RAF kinase inhibitor with DFG-out binding mode: high efficacy in BRAF-mutant tumor xenograft models in the absence of normal tissue hyperproliferation\" "
      ]
     },
     "metadata": {},
     "output_type": "display_data"
    }
   ],
   "source": [
    "slot(ds4842, \"titles\")[\"SRP065849\"]"
   ]
  },
  {
   "cell_type": "markdown",
   "metadata": {},
   "source": [
    "### Drilling down to tabulate study design factors <a id=\"drill\"></a>\n",
    "\n",
    "We will crosstabulate the key factors from SRP080797, derived from a 2017 Genes and Development paper entitled 'Integrator orchestrates RAS/ERK1/2 signaling transcriptional programs'.  Note the inconsistent notation for the MEK inhibitor factor, leading to an unnecessary stratum."
   ]
  },
  {
   "cell_type": "code",
   "execution_count": 9,
   "metadata": {},
   "outputs": [
    {
     "data": {
      "text/plain": [
       ", , genetic.background = BRAF mutation\n",
       "\n",
       "                                    cell.line\n",
       "agent                                A375 A549 HeLa\n",
       "  BRAF inhibitor 3 hours at 1uM         2    0    0\n",
       "  Control siRNA transfection, 3 days    2    0    0\n",
       "  DMSO treatment for 3 hours            2    0    0\n",
       "  Doxycycline for 3 days                0    0    0\n",
       "  ERK inhibitor 3 hours at 1uM          1    0    0\n",
       "  INTS11 siRNA transfection, 3 days     2    0    0\n",
       "  MEK inhibitor 3 hours at 0.2 uM       2    0    0\n",
       "  MEK inhibitor for 3 hours at 0.2uM    0    0    0\n",
       "\n",
       ", , genetic.background = Harboring inducible shRNA expressing cassette\n",
       "\n",
       "                                    cell.line\n",
       "agent                                A375 A549 HeLa\n",
       "  BRAF inhibitor 3 hours at 1uM         0    0    0\n",
       "  Control siRNA transfection, 3 days    0    0    0\n",
       "  DMSO treatment for 3 hours            0    0    1\n",
       "  Doxycycline for 3 days                0    0   14\n",
       "  ERK inhibitor 3 hours at 1uM          0    0    2\n",
       "  INTS11 siRNA transfection, 3 days     0    0    0\n",
       "  MEK inhibitor 3 hours at 0.2 uM       0    0    0\n",
       "  MEK inhibitor for 3 hours at 0.2uM    0    0    1\n",
       "\n",
       ", , genetic.background = KRAS mutation\n",
       "\n",
       "                                    cell.line\n",
       "agent                                A375 A549 HeLa\n",
       "  BRAF inhibitor 3 hours at 1uM         0    0    0\n",
       "  Control siRNA transfection, 3 days    0    2    0\n",
       "  DMSO treatment for 3 hours            0    2    0\n",
       "  Doxycycline for 3 days                0    0    0\n",
       "  ERK inhibitor 3 hours at 1uM          0    2    0\n",
       "  INTS11 siRNA transfection, 3 days     0    1    0\n",
       "  MEK inhibitor 3 hours at 0.2 uM       0    1    0\n",
       "  MEK inhibitor for 3 hours at 0.2uM    0    0    0\n"
      ]
     },
     "metadata": {},
     "output_type": "display_data"
    }
   ],
   "source": [
    "md = metadata(se_brafmut)[-1]\n",
    "with(md$SRP080797, xtabs(~agent+cell.line+genetic.background))"
   ]
  },
  {
   "cell_type": "markdown",
   "metadata": {},
   "source": [
    "## Statistical characteristics of the compendium <a id=\"stat\"></a>\n",
    "\n",
    "### Distribution of study sizes <a id=\"sizes\"></a>"
   ]
  },
  {
   "cell_type": "code",
   "execution_count": 10,
   "metadata": {},
   "outputs": [
    {
     "data": {
      "image/png": "[encoded data removed]",
      "text/plain": [
       "Plot with title “study size”"
      ]
     },
     "metadata": {},
     "output_type": "display_data"
    }
   ],
   "source": [
    "sizes = table(se1$study_accession)\n",
    "hist(log10(sizes), 20, axes=FALSE, main=\"study size\", xlab=\"# experiments/study\")\n",
    "axis(1, at=c(0, 0.699, 1, 1.301, 1.699, 2, 2.3979, 2.699, 3, 3.4771), \n",
    "     labels=c(1, 5, 10, 20, 50, 100, 250, 500, 1000, 3000))\n",
    "axis(2)"
   ]
  },
  {
   "cell_type": "markdown",
   "metadata": {},
   "source": [
    "Studies with at least 1000 experiments:"
   ]
  },
  {
   "cell_type": "code",
   "execution_count": 11,
   "metadata": {},
   "outputs": [
    {
     "data": {
      "text/html": [
       "<table>\n",
       "<thead><tr><th scope=col>N</th><th scope=col>title</th></tr></thead>\n",
       "<tbody>\n",
       "\t<tr><td>1001                                                                                                                                      </td><td>CSER: Exploring Precision Cancer Medicine for Sarcoma and Rare Cancers                                                                    </td></tr>\n",
       "\t<tr><td>1004                                                                                                                                      </td><td>Single Cell Transcriptome Conservation in Cryopreserved Cells and Tissues                                                                 </td></tr>\n",
       "\t<tr><td>1153                                                                                                                                      </td><td>single cell transcriptomic analyses of human pancreatic islets                                                                            </td></tr>\n",
       "\t<tr><td>1236                                                                                                                                      </td><td>_Genetics_of_gene_expression_in_macrophage_immune_response_Open_access                                                                    </td></tr>\n",
       "\t<tr><td>1373                                                                                                                                      </td><td>GxE and Complex Traits                                                                                                                    </td></tr>\n",
       "\t<tr><td>1520                                                                                                                                      </td><td>Single-cell RNA-seq reveal lineage formation and X-chromosome dosage compensation in human preimplantation embryos                        </td></tr>\n",
       "\t<tr><td>1536                                                                                                                                      </td><td>NA                                                                                                                                        </td></tr>\n",
       "\t<tr><td>1544                                                                                                                                      </td><td>Homo sapiens Raw sequence reads                                                                                                           </td></tr>\n",
       "\t<tr><td>1594                                                                                                                                      </td><td>RNA Sequencing of Single Human Islet Cells Reveals Type 2 Diabetes Genes                                                                  </td></tr>\n",
       "\t<tr><td>1598                                                                                                                                      </td><td>Zika Virus Disrupts Phospho-TBK1 Localization and Mitosis in Human Neural Stem Cell Model Systems                                         </td></tr>\n",
       "\t<tr><td>1681                                                                                                                                      </td><td>A novel addressable 9600-microwell array single cell RNA-seq method applied on fresh mouse cortical cells and frozen human cortical nuclei</td></tr>\n",
       "\t<tr><td>1690                                                                                                                                      </td><td>A comprehensive assessment of RNA-seq accuracy, reproducibility and information content by the Sequence Quality Control consortium        </td></tr>\n",
       "\t<tr><td>1722                                                                                                                                      </td><td>Single cell RNAseq characterization of cell types produced over time in an in vitro model of human inhibitory interneuron differentiation.</td></tr>\n",
       "\t<tr><td>1804                                                                                                                                      </td><td>Snapshot and temporal scRNA-seq of progenitor cells to dissect human embryonic stem cells entry into endoderm progenitors                 </td></tr>\n",
       "\t<tr><td>1834                                                                                                                                      </td><td>REGION-SPECIFIC NEURAL STEM CELL LINEAGES REVEALED BY SINGLE-CELL RNA-SEQ FROM HUMAN EMBRYONIC STEM CELLS [Smart-seq]                     </td></tr>\n",
       "\t<tr><td>1855                                                                                                                                      </td><td>NA                                                                                                                                        </td></tr>\n",
       "\t<tr><td>1911                                                                                                                                      </td><td>GSE35585: RIP-seq from ENCODE/SUNY Albany                                                                                                 </td></tr>\n",
       "\t<tr><td>2275                                                                                                                                      </td><td>Single-cell transcriptomics uncovers distinct molecular signatures of stem cells in chronic myeloid leukemia                              </td></tr>\n",
       "\t<tr><td>2390                                                                                                                                      </td><td>Single cell transcriptome analysis of human pancreas reveals transcriptional signatures of aging and somatic mutation patterns.           </td></tr>\n",
       "\t<tr><td>2405                                                                                                                                      </td><td>Single-cell indexed RNA-Seq of human hematopoietic stem and progenitors                                                                   </td></tr>\n",
       "\t<tr><td>2671                                                                                                                                      </td><td>REGION-SPECIFIC NEURAL STEM CELL LINEAGES REVEALED BY SINGLE-CELL RNA-SEQ FROM HUMAN EMBRYONIC STEM CELLS [Cel-seq]                       </td></tr>\n",
       "\t<tr><td>3030                                                                                                                                      </td><td>Single Cell Analysis Program-Transcriptomics (SCAP-T) (USC site)                                                                          </td></tr>\n",
       "\t<tr><td>3383                                                                                                                                      </td><td>Single-Cell RNAseq analysis of diffuse neoplastic infiltrating cells at the migrating front of human glioblastoma                         </td></tr>\n",
       "\t<tr><td>3493                                                                                                                                      </td><td>Single-cell RNA-seq analysis of human pancreas from healthy individuals and type 2 diabetes patients                                      </td></tr>\n",
       "\t<tr><td>3987                                                                                                                                      </td><td>Single_Cell_RNAseq_at_various_stages_of_HiPSCs_differentiating_toward_definitive_endoderm_and_endoderm_derived_lineages_                  </td></tr>\n",
       "\t<tr><td>4002                                                                                                                                      </td><td>Single Cell RNA-seq Study of Midbrain and Dopaminergic Neuron Development in Mouse, Human, and Stem Cells                                 </td></tr>\n",
       "\t<tr><td>5146                                                                                                                                      </td><td>Single Cell Analysis Program-Transcriptomics (SCAP-T) (UC San Diego site)                                                                 </td></tr>\n",
       "\t<tr><td>9495                                                                                                                                      </td><td>Genotype-Tissue Expression (GTEx) Common Fund Project                                                                                     </td></tr>\n",
       "</tbody>\n",
       "</table>\n"
      ],
      "text/latex": [
       "\\begin{tabular}{r|ll}\n",
       " N & title\\\\\n",
       "\\hline\n",
       "\t 1001                                                                                                                                       & CSER: Exploring Precision Cancer Medicine for Sarcoma and Rare Cancers                                                                    \\\\\n",
       "\t 1004                                                                                                                                       & Single Cell Transcriptome Conservation in Cryopreserved Cells and Tissues                                                                 \\\\\n",
       "\t 1153                                                                                                                                       & single cell transcriptomic analyses of human pancreatic islets                                                                            \\\\\n",
       "\t 1236                                                                                                                                                           & \\_Genetics\\_of\\_gene\\_expression\\_in\\_macrophage\\_immune\\_response\\_Open\\_access                                                                    \\\\\n",
       "\t 1373                                                                                                                                       & GxE and Complex Traits                                                                                                                    \\\\\n",
       "\t 1520                                                                                                                                       & Single-cell RNA-seq reveal lineage formation and X-chromosome dosage compensation in human preimplantation embryos                        \\\\\n",
       "\t 1536                                                                                                                                       & NA                                                                                                                                        \\\\\n",
       "\t 1544                                                                                                                                       & Homo sapiens Raw sequence reads                                                                                                           \\\\\n",
       "\t 1594                                                                                                                                       & RNA Sequencing of Single Human Islet Cells Reveals Type 2 Diabetes Genes                                                                  \\\\\n",
       "\t 1598                                                                                                                                       & Zika Virus Disrupts Phospho-TBK1 Localization and Mitosis in Human Neural Stem Cell Model Systems                                         \\\\\n",
       "\t 1681                                                                                                                                       & A novel addressable 9600-microwell array single cell RNA-seq method applied on fresh mouse cortical cells and frozen human cortical nuclei\\\\\n",
       "\t 1690                                                                                                                                       & A comprehensive assessment of RNA-seq accuracy, reproducibility and information content by the Sequence Quality Control consortium        \\\\\n",
       "\t 1722                                                                                                                                       & Single cell RNAseq characterization of cell types produced over time in an in vitro model of human inhibitory interneuron differentiation.\\\\\n",
       "\t 1804                                                                                                                                       & Snapshot and temporal scRNA-seq of progenitor cells to dissect human embryonic stem cells entry into endoderm progenitors                 \\\\\n",
       "\t 1834                                                                                                                                           & REGION-SPECIFIC NEURAL STEM CELL LINEAGES REVEALED BY SINGLE-CELL RNA-SEQ FROM HUMAN EMBRYONIC STEM CELLS {[}Smart-seq{]}                     \\\\\n",
       "\t 1855                                                                                                                                       & NA                                                                                                                                        \\\\\n",
       "\t 1911                                                                                                                                       & GSE35585: RIP-seq from ENCODE/SUNY Albany                                                                                                 \\\\\n",
       "\t 2275                                                                                                                                       & Single-cell transcriptomics uncovers distinct molecular signatures of stem cells in chronic myeloid leukemia                              \\\\\n",
       "\t 2390                                                                                                                                       & Single cell transcriptome analysis of human pancreas reveals transcriptional signatures of aging and somatic mutation patterns.           \\\\\n",
       "\t 2405                                                                                                                                       & Single-cell indexed RNA-Seq of human hematopoietic stem and progenitors                                                                   \\\\\n",
       "\t 2671                                                                                                                                           & REGION-SPECIFIC NEURAL STEM CELL LINEAGES REVEALED BY SINGLE-CELL RNA-SEQ FROM HUMAN EMBRYONIC STEM CELLS {[}Cel-seq{]}                       \\\\\n",
       "\t 3030                                                                                                                                       & Single Cell Analysis Program-Transcriptomics (SCAP-T) (USC site)                                                                          \\\\\n",
       "\t 3383                                                                                                                                       & Single-Cell RNAseq analysis of diffuse neoplastic infiltrating cells at the migrating front of human glioblastoma                         \\\\\n",
       "\t 3493                                                                                                                                       & Single-cell RNA-seq analysis of human pancreas from healthy individuals and type 2 diabetes patients                                      \\\\\n",
       "\t 3987                                                                                                                                                                       & Single\\_Cell\\_RNAseq\\_at\\_various\\_stages\\_of\\_HiPSCs\\_differentiating\\_toward\\_definitive\\_endoderm\\_and\\_endoderm\\_derived\\_lineages\\_                  \\\\\n",
       "\t 4002                                                                                                                                       & Single Cell RNA-seq Study of Midbrain and Dopaminergic Neuron Development in Mouse, Human, and Stem Cells                                 \\\\\n",
       "\t 5146                                                                                                                                       & Single Cell Analysis Program-Transcriptomics (SCAP-T) (UC San Diego site)                                                                 \\\\\n",
       "\t 9495                                                                                                                                       & Genotype-Tissue Expression (GTEx) Common Fund Project                                                                                     \\\\\n",
       "\\end{tabular}\n"
      ],
      "text/markdown": [
       "\n",
       "| N | title |\n",
       "|---|---|\n",
       "| 1001                                                                                                                                       | CSER: Exploring Precision Cancer Medicine for Sarcoma and Rare Cancers                                                                     |\n",
       "| 1004                                                                                                                                       | Single Cell Transcriptome Conservation in Cryopreserved Cells and Tissues                                                                  |\n",
       "| 1153                                                                                                                                       | single cell transcriptomic analyses of human pancreatic islets                                                                             |\n",
       "| 1236                                                                                                                                       | _Genetics_of_gene_expression_in_macrophage_immune_response_Open_access                                                                     |\n",
       "| 1373                                                                                                                                       | GxE and Complex Traits                                                                                                                     |\n",
       "| 1520                                                                                                                                       | Single-cell RNA-seq reveal lineage formation and X-chromosome dosage compensation in human preimplantation embryos                         |\n",
       "| 1536                                                                                                                                       | NA                                                                                                                                         |\n",
       "| 1544                                                                                                                                       | Homo sapiens Raw sequence reads                                                                                                            |\n",
       "| 1594                                                                                                                                       | RNA Sequencing of Single Human Islet Cells Reveals Type 2 Diabetes Genes                                                                   |\n",
       "| 1598                                                                                                                                       | Zika Virus Disrupts Phospho-TBK1 Localization and Mitosis in Human Neural Stem Cell Model Systems                                          |\n",
       "| 1681                                                                                                                                       | A novel addressable 9600-microwell array single cell RNA-seq method applied on fresh mouse cortical cells and frozen human cortical nuclei |\n",
       "| 1690                                                                                                                                       | A comprehensive assessment of RNA-seq accuracy, reproducibility and information content by the Sequence Quality Control consortium         |\n",
       "| 1722                                                                                                                                       | Single cell RNAseq characterization of cell types produced over time in an in vitro model of human inhibitory interneuron differentiation. |\n",
       "| 1804                                                                                                                                       | Snapshot and temporal scRNA-seq of progenitor cells to dissect human embryonic stem cells entry into endoderm progenitors                  |\n",
       "| 1834                                                                                                                                       | REGION-SPECIFIC NEURAL STEM CELL LINEAGES REVEALED BY SINGLE-CELL RNA-SEQ FROM HUMAN EMBRYONIC STEM CELLS [Smart-seq]                      |\n",
       "| 1855                                                                                                                                       | NA                                                                                                                                         |\n",
       "| 1911                                                                                                                                       | GSE35585: RIP-seq from ENCODE/SUNY Albany                                                                                                  |\n",
       "| 2275                                                                                                                                       | Single-cell transcriptomics uncovers distinct molecular signatures of stem cells in chronic myeloid leukemia                               |\n",
       "| 2390                                                                                                                                       | Single cell transcriptome analysis of human pancreas reveals transcriptional signatures of aging and somatic mutation patterns.            |\n",
       "| 2405                                                                                                                                       | Single-cell indexed RNA-Seq of human hematopoietic stem and progenitors                                                                    |\n",
       "| 2671                                                                                                                                       | REGION-SPECIFIC NEURAL STEM CELL LINEAGES REVEALED BY SINGLE-CELL RNA-SEQ FROM HUMAN EMBRYONIC STEM CELLS [Cel-seq]                        |\n",
       "| 3030                                                                                                                                       | Single Cell Analysis Program-Transcriptomics (SCAP-T) (USC site)                                                                           |\n",
       "| 3383                                                                                                                                       | Single-Cell RNAseq analysis of diffuse neoplastic infiltrating cells at the migrating front of human glioblastoma                          |\n",
       "| 3493                                                                                                                                       | Single-cell RNA-seq analysis of human pancreas from healthy individuals and type 2 diabetes patients                                       |\n",
       "| 3987                                                                                                                                       | Single_Cell_RNAseq_at_various_stages_of_HiPSCs_differentiating_toward_definitive_endoderm_and_endoderm_derived_lineages_                   |\n",
       "| 4002                                                                                                                                       | Single Cell RNA-seq Study of Midbrain and Dopaminergic Neuron Development in Mouse, Human, and Stem Cells                                  |\n",
       "| 5146                                                                                                                                       | Single Cell Analysis Program-Transcriptomics (SCAP-T) (UC San Diego site)                                                                  |\n",
       "| 9495                                                                                                                                       | Genotype-Tissue Expression (GTEx) Common Fund Project                                                                                      |\n",
       "\n"
      ],
      "text/plain": [
       "   N   \n",
       "1  1001\n",
       "2  1004\n",
       "3  1153\n",
       "4  1236\n",
       "5  1373\n",
       "6  1520\n",
       "7  1536\n",
       "8  1544\n",
       "9  1594\n",
       "10 1598\n",
       "11 1681\n",
       "12 1690\n",
       "13 1722\n",
       "14 1804\n",
       "15 1834\n",
       "16 1855\n",
       "17 1911\n",
       "18 2275\n",
       "19 2390\n",
       "20 2405\n",
       "21 2671\n",
       "22 3030\n",
       "23 3383\n",
       "24 3493\n",
       "25 3987\n",
       "26 4002\n",
       "27 5146\n",
       "28 9495\n",
       "   title                                                                                                                                     \n",
       "1  CSER: Exploring Precision Cancer Medicine for Sarcoma and Rare Cancers                                                                    \n",
       "2  Single Cell Transcriptome Conservation in Cryopreserved Cells and Tissues                                                                 \n",
       "3  single cell transcriptomic analyses of human pancreatic islets                                                                            \n",
       "4  _Genetics_of_gene_expression_in_macrophage_immune_response_Open_access                                                                    \n",
       "5  GxE and Complex Traits                                                                                                                    \n",
       "6  Single-cell RNA-seq reveal lineage formation and X-chromosome dosage compensation in human preimplantation embryos                        \n",
       "7  NA                                                                                                                                        \n",
       "8  Homo sapiens Raw sequence reads                                                                                                           \n",
       "9  RNA Sequencing of Single Human Islet Cells Reveals Type 2 Diabetes Genes                                                                  \n",
       "10 Zika Virus Disrupts Phospho-TBK1 Localization and Mitosis in Human Neural Stem Cell Model Systems                                         \n",
       "11 A novel addressable 9600-microwell array single cell RNA-seq method applied on fresh mouse cortical cells and frozen human cortical nuclei\n",
       "12 A comprehensive assessment of RNA-seq accuracy, reproducibility and information content by the Sequence Quality Control consortium        \n",
       "13 Single cell RNAseq characterization of cell types produced over time in an in vitro model of human inhibitory interneuron differentiation.\n",
       "14 Snapshot and temporal scRNA-seq of progenitor cells to dissect human embryonic stem cells entry into endoderm progenitors                 \n",
       "15 REGION-SPECIFIC NEURAL STEM CELL LINEAGES REVEALED BY SINGLE-CELL RNA-SEQ FROM HUMAN EMBRYONIC STEM CELLS [Smart-seq]                     \n",
       "16 NA                                                                                                                                        \n",
       "17 GSE35585: RIP-seq from ENCODE/SUNY Albany                                                                                                 \n",
       "18 Single-cell transcriptomics uncovers distinct molecular signatures of stem cells in chronic myeloid leukemia                              \n",
       "19 Single cell transcriptome analysis of human pancreas reveals transcriptional signatures of aging and somatic mutation patterns.           \n",
       "20 Single-cell indexed RNA-Seq of human hematopoietic stem and progenitors                                                                   \n",
       "21 REGION-SPECIFIC NEURAL STEM CELL LINEAGES REVEALED BY SINGLE-CELL RNA-SEQ FROM HUMAN EMBRYONIC STEM CELLS [Cel-seq]                       \n",
       "22 Single Cell Analysis Program-Transcriptomics (SCAP-T) (USC site)                                                                          \n",
       "23 Single-Cell RNAseq analysis of diffuse neoplastic infiltrating cells at the migrating front of human glioblastoma                         \n",
       "24 Single-cell RNA-seq analysis of human pancreas from healthy individuals and type 2 diabetes patients                                      \n",
       "25 Single_Cell_RNAseq_at_various_stages_of_HiPSCs_differentiating_toward_definitive_endoderm_and_endoderm_derived_lineages_                  \n",
       "26 Single Cell RNA-seq Study of Midbrain and Dopaminergic Neuron Development in Mouse, Human, and Stem Cells                                 \n",
       "27 Single Cell Analysis Program-Transcriptomics (SCAP-T) (UC San Diego site)                                                                 \n",
       "28 Genotype-Tissue Expression (GTEx) Common Fund Project                                                                                     "
      ]
     },
     "metadata": {},
     "output_type": "display_data"
    }
   ],
   "source": [
    "bigstud = which(sizes>=1000)\n",
    "bigstud = bigstud[order(sizes[bigstud])]\n",
    "data.frame(N=as.numeric(sizes[bigstud]), title=slot(ds4842, \"titles\")[names(sizes)[bigstud]])"
   ]
  },
  {
   "cell_type": "markdown",
   "metadata": {},
   "source": [
    "### Availability of gender or ethnicity information <a id=\"geneth\"></a>\n",
    "\n",
    "There is no guarantee that gender or ethnicity is recorded in the sample.attributes field.  But sometimes it is."
   ]
  },
  {
   "cell_type": "code",
   "execution_count": 12,
   "metadata": {},
   "outputs": [
    {
     "data": {
      "text/html": [
       "<ol class=list-inline>\n",
       "\t<li>1010</li>\n",
       "\t<li>2</li>\n",
       "</ol>\n"
      ],
      "text/latex": [
       "\\begin{enumerate*}\n",
       "\\item 1010\n",
       "\\item 2\n",
       "\\end{enumerate*}\n"
      ],
      "text/markdown": [
       "1. 1010\n",
       "2. 2\n",
       "\n",
       "\n"
      ],
      "text/plain": [
       "[1] 1010    2"
      ]
     },
     "metadata": {},
     "output_type": "display_data"
    },
    {
     "data": {
      "text/plain": [
       "\n",
       "    cell.sex    fetal.sex     host_sex     host.sex    mixed sex obsolete.sex \n",
       "           7            1            1            2            1            1 \n",
       " patient.sex          sex          Sex \n",
       "           2          846          149 "
      ]
     },
     "metadata": {},
     "output_type": "display_data"
    }
   ],
   "source": [
    "sex.recorded = searchDocs(\"[Ss]ex$\", ds4842)\n",
    "dim(sex.recorded)\n",
    "table(sex.recorded$hits)"
   ]
  },
  {
   "cell_type": "code",
   "execution_count": 13,
   "metadata": {},
   "outputs": [
    {
     "data": {
      "text/html": [
       "<ol class=list-inline>\n",
       "\t<li>156</li>\n",
       "\t<li>2</li>\n",
       "</ol>\n"
      ],
      "text/latex": [
       "\\begin{enumerate*}\n",
       "\\item 156\n",
       "\\item 2\n",
       "\\end{enumerate*}\n"
      ],
      "text/markdown": [
       "1. 156\n",
       "2. 2\n",
       "\n",
       "\n"
      ],
      "text/plain": [
       "[1] 156   2"
      ]
     },
     "metadata": {},
     "output_type": "display_data"
    },
    {
     "data": {
      "text/plain": [
       "\n",
       "Chinese Han ethnicity                ethnic     ethnic.background \n",
       "                    2                     1                     1 \n",
       "         ethnic.group          Ethnic.Group            Ethnically \n",
       "                    1                     1                     1 \n",
       "            ethnicity             Ethnicity    maternal_ethnicity \n",
       "                   86                     2                     1 \n",
       "         patient.race                  race                  Race \n",
       "                    1                    55                     2 \n",
       "    subject.ethnicity                 trace \n",
       "                    1                     1 "
      ]
     },
     "metadata": {},
     "output_type": "display_data"
    }
   ],
   "source": [
    "eth.recorded = searchDocs(\"[Rr]ace$|[Ee]thn\", ds4842)\n",
    "dim(eth.recorded)\n",
    "table(eth.recorded$hits)"
   ]
  },
  {
   "cell_type": "code",
   "execution_count": 14,
   "metadata": {},
   "outputs": [],
   "source": [
    "loggapdh = log(as.numeric(assay(se1[which(rowData(se1)$gene_name==\"GAPDH\")[1],]))+1)"
   ]
  },
  {
   "cell_type": "code",
   "execution_count": 15,
   "metadata": {},
   "outputs": [],
   "source": [
    "logbrca2 = log(as.numeric(assay(se1[which(rowData(se1)$gene_name==\"BRCA2\")[1],]))+1)"
   ]
  },
  {
   "cell_type": "code",
   "execution_count": 16,
   "metadata": {},
   "outputs": [
    {
     "data": {
      "image/png": "[encoded data removed]",
      "text/plain": [
       "Plot with title “Densities of log BRCA2 and GAPDH abundance”"
      ]
     },
     "metadata": {},
     "output_type": "display_data"
    }
   ],
   "source": [
    "plot(density(logbrca2), main=\"Densities of log BRCA2 and GAPDH abundance\")\n",
    "lines(density(loggapdh), lty=2)\n",
    "legend(6,.4, lty=c(1,2), legend=c(\"log BRCA2\", \"log GAPDH\"))"
   ]
  },
  {
   "cell_type": "markdown",
   "metadata": {},
   "source": [
    "## Summary <a id=\"summary\"></a>\n",
    "\n",
    "This notebook has demonstrated how one may interact directly with an image of 181000 uniformly preprocessed RNA-seq experiments.  Through the use of Bioconductor's SummarizedExperiment data structure and the restfulSE/DelayedArray protocols, the quantifications are tightly coupled with substantive metadata.  The use of HSDS to manage the quantifications is new, and methods for efficient extraction of large subsets for multivariate analysis are under development.\n",
    "\n",
    "Comments regarding this work should be filed at the [HumanTranscriptomeCompendium](https://github.com/vjcitn/HumanTranscriptomeCompendium/issues) repository.  \n",
    "\n",
    "This work was supported by grants from NIH NCI U01 CA214846, U24 CA180996, and Chan Zuckerberg Initiative DAF 2018-183436. "
   ]
  },
  {
   "cell_type": "code",
   "execution_count": null,
   "metadata": {},
   "outputs": [],
   "source": []
  }
 ],
 "metadata": {
  "kernelspec": {
   "display_name": "R",
   "language": "R",
   "name": "ir"
  },
  "language_info": {
   "codemirror_mode": "r",
   "file_extension": ".r",
   "mimetype": "text/x-r-source",
   "name": "R",
   "pygments_lexer": "r",
   "version": "3.6.0"
  }
 },
 "nbformat": 4,
 "nbformat_minor": 2
}
